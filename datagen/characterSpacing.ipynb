{
 "cells": [
  {
   "cell_type": "code",
   "execution_count": 7,
   "metadata": {},
   "outputs": [],
   "source": [
    "import os \n",
    "import pandas as pd\n",
    "import numpy as np\n",
    "import cv2.cv2 as cv2\n",
    "from PIL import ImageFont\n",
    "\n",
    "from dataBox import TextBox\n",
    "from textGenerator import TextGenerator"
   ]
  },
  {
   "cell_type": "code",
   "execution_count": null,
   "metadata": {},
   "outputs": [],
   "source": [
    "def isEndOfLine(x):\n",
    "    if u'\\u0964' <= x <= u'\\u0965' :\n",
    "        return True\n",
    "    return False\n",
    "    \n",
    "\n",
    "def isMatra(x):\n",
    "    if (u'\\u0901' <= x <= u'\\u0903' or \n",
    "        u'\\u093C' <= x <= u'\\u094F' or\n",
    "        u'\\u0951' <= x <= u'\\u0954' or\n",
    "        u'\\u0951' <= x <= u'\\u0954' or\n",
    "        u'\\u0962' <= x <= u'\\u0963'):\n",
    "        return True\n",
    "    return False\n",
    "def isVowel(x):\n",
    "    if (u'\\u0905' <= x <= u'\\u0914' or \n",
    "        u'\\u0960' <= x <= u'\\u0961'):\n",
    "        return True\n",
    "    return False\n",
    "def isConsonant(x):\n",
    "    if (u'\\u0915' <= x <= u'\\u0939' or \n",
    "        u'\\u0958' <= x <= u'\\u095F'):\n",
    "        return True\n",
    "    return False\n",
    "\n",
    "def isOM(x):\n",
    "    if x == u'\\u0950' :\n",
    "        return True\n",
    "    return False\n",
    "\n",
    "\n",
    "    "
   ]
  },
  {
   "cell_type": "code",
   "execution_count": 6,
   "metadata": {},
   "outputs": [],
   "source": [
    "class ImageTextBox:\n",
    "    pass"
   ]
  },
  {
   "cell_type": "code",
   "execution_count": null,
   "metadata": {},
   "outputs": [],
   "source": [
    "class OCRWord:\n",
    "    def __init__(text, font=None):\n",
    "        \n",
    "        self.text = text\n",
    "        \n",
    "        if font is None:\n",
    "            fontPath = os.path.join(os.getcwd(), 'hindiFonts', 'NotoSans-Regular.ttf')\n",
    "            fontSize = 45\n",
    "            font = ImageFont.truetype(fontPath, size=fontSize,\n",
    "                                    layout_engine=ImageFont.LAYOUT_RAQM)\n",
    "        self.font = font\n",
    "        "
   ]
  },
  {
   "cell_type": "code",
   "execution_count": 21,
   "metadata": {},
   "outputs": [
    {
     "name": "stdout",
     "output_type": "stream",
     "text": [
      "क ख ग घ ङ च छ ज झ ञ ट ठ ड ढ ण त थ द ध न ऩ प फ ब भ म य र ऱ ल ळ ऴ व श ष स ह क़ ख़ ग़ ज़ ड़ ढ़ फ़ य़ "
     ]
    }
   ],
   "source": [
    "# x = u'\\u0915'\n",
    "# for i in range(11000):\n",
    "#     print(chr(i), end=' ')\n",
    "\n",
    "\n",
    "def getAllConsonants():\n",
    "    ans = []\n",
    "    x = u'\\u0915'\n",
    "    start = int('0915', 16)\n",
    "    end = int('0939', 16)\n",
    "    for i in range(start, end+1):\n",
    "        print(chr(i), end=' ')\n",
    "    start = int('0958', 16)\n",
    "    end = int('095F', 16)\n",
    "    for i in range(start, end+1):\n",
    "        print(chr(i), end=' ')\n",
    "getAllConsonants()"
   ]
  },
  {
   "cell_type": "code",
   "execution_count": 33,
   "metadata": {},
   "outputs": [
    {
     "name": "stdout",
     "output_type": "stream",
     "text": [
      "start : 2304\n",
      "end : 2431\n",
      "ऀ ँ ं ः ऄ अ आ इ ई उ ऊ ऋ ऌ ऍ ऎ ए ऐ ऑ ऒ ओ औ क ख ग घ ङ च छ ज झ ञ ट ठ ड ढ ण त थ द ध न ऩ प फ ब भ म य र ऱ ल ळ ऴ व श ष स ह ऺ ऻ ़ ऽ ा ि ी ु ू ृ ॄ ॅ ॆ े ै ॉ ॊ ो ौ ् ॎ ॏ ॐ ॑ ॒ ॓ ॔ ॕ ॖ ॗ क़ ख़ ग़ ज़ ड़ ढ़ फ़ य़ ॠ ॡ ॢ ॣ । ॥ ० १ २ ३ ४ ५ ६ ७ ८ ९ ॰ ॱ ॲ ॳ ॴ ॵ ॶ ॷ ॸ ॹ ॺ ॻ ॼ ॽ ॾ ॿ \n",
      "count: 128\n"
     ]
    }
   ],
   "source": [
    "def getAllDevanagariCharacters():\n",
    "    start = int('0900', 16)\n",
    "    end = int('097F', 16)\n",
    "    print(f'start : {start}')\n",
    "    print(f'end : {end}')\n",
    "    count = 0\n",
    "    for i in range(start, end+1):\n",
    "        print(chr(i), end=' ')\n",
    "        count += 1\n",
    "    print(f'\\ncount: {count}')\n",
    "getAllDevanagariCharacters()"
   ]
  },
  {
   "cell_type": "code",
   "execution_count": 31,
   "metadata": {},
   "outputs": [
    {
     "data": {
      "text/plain": [
       "['ऋ']"
      ]
     },
     "execution_count": 31,
     "metadata": {},
     "output_type": "execute_result"
    }
   ],
   "source": [
    "a = 'ज्ञ'\n",
    "a = 'क्ष'\n",
    "a = 'ऋ'\n",
    "list(a)"
   ]
  },
  {
   "cell_type": "code",
   "execution_count": 32,
   "metadata": {},
   "outputs": [
    {
     "data": {
      "text/plain": [
       "2315"
      ]
     },
     "execution_count": 32,
     "metadata": {},
     "output_type": "execute_result"
    }
   ],
   "source": [
    "ord('ऋ')"
   ]
  }
 ],
 "metadata": {
  "kernelspec": {
   "display_name": "Python 3",
   "language": "python",
   "name": "python3"
  },
  "language_info": {
   "codemirror_mode": {
    "name": "ipython",
    "version": 3
   },
   "file_extension": ".py",
   "mimetype": "text/x-python",
   "name": "python",
   "nbconvert_exporter": "python",
   "pygments_lexer": "ipython3",
   "version": "3.7.5"
  }
 },
 "nbformat": 4,
 "nbformat_minor": 2
}
