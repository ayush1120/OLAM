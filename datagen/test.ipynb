{
 "metadata": {
  "language_info": {
   "codemirror_mode": {
    "name": "ipython",
    "version": 3
   },
   "file_extension": ".py",
   "mimetype": "text/x-python",
   "name": "python",
   "nbconvert_exporter": "python",
   "pygments_lexer": "ipython3",
   "version": "3.7.5-final"
  },
  "orig_nbformat": 2,
  "kernelspec": {
   "name": "Python 3.7.5 64-bit ('envOLAM')",
   "display_name": "Python 3.7.5 64-bit ('envOLAM')",
   "metadata": {
    "interpreter": {
     "hash": "5e66582f4e5869c6a5d6f2575bd75c5950d34a9a76f0404b46cd4a85b89b5d1e"
    }
   }
  }
 },
 "nbformat": 4,
 "nbformat_minor": 2,
 "cells": [
  {
   "source": [
    "import os\n",
    "import pandas as pd"
   ],
   "cell_type": "code",
   "metadata": {},
   "execution_count": 1,
   "outputs": []
  },
  {
   "cell_type": "code",
   "execution_count": 2,
   "metadata": {},
   "outputs": [],
   "source": [
    "filePath = os.path.join(os.getcwd(), 'hindi_corpus_2012_12_19', 'Hi_Newspapers.txt')\n",
    "data = pd.read_csv(filePath, delimiter='\\t', names=['source', 'date', 'unnamed_1', 'unnamed_2', 'text'])"
   ]
  },
  {
   "cell_type": "code",
   "execution_count": 3,
   "metadata": {},
   "outputs": [
    {
     "output_type": "execute_result",
     "data": {
      "text/plain": [
       "                   source        date  \\\n",
       "0            jansatta.com  2012/12/08   \n",
       "1          indiatimes.com  2012/03/21   \n",
       "2              jagran.com  2012/07/07   \n",
       "3             bhaskar.com  2012/11/02   \n",
       "4          indiatimes.com  2012/05/13   \n",
       "...                   ...         ...   \n",
       "114752         jagran.com  2012/10/31   \n",
       "114753  ranchiexpress.com  2012/11/26   \n",
       "114754    punjabkesari.in  2012/03/22   \n",
       "114755        bhaskar.com  2012/04/21   \n",
       "114756     indiatimes.com  2012/10/07   \n",
       "\n",
       "                                                     text  \n",
       "0       पूर्व पाकिस्तानी कप्तान अकरम ने कहा कि यदि खिल...  \n",
       "1       - मार्केट में एक्सफोलिएटिंग लिप स्क्रब आसानी स...  \n",
       "2                                     पूर्वी कैनाल मार्ग-  \n",
       "3       संपत्ति लंबे समय में बनाई जाती है और इस काम को...  \n",
       "4       -amazon.com के किंडल ई-रीडर्स पर अब हैरी पॉटर ...  \n",
       "...                                                   ...  \n",
       "114752  मियादाद ने एक पाक चैनल से कहा कि वह नवाज को चे...  \n",
       "114753  मामला घरेलू विवाद का ः एसपी इस संबंध में कोडरम...  \n",
       "114754  स. बेअंत ङ्क्षसह के दरवाजे 24 घंटे खुले रहते थ...  \n",
       "114755                                       ॐ ब्रभवे नम:  \n",
       "114756  गौरतलब है कि शनिवार को उसने भुवनेश्वर के नंदन ...  \n",
       "\n",
       "[114757 rows x 3 columns]"
      ],
      "text/html": "<div>\n<style scoped>\n    .dataframe tbody tr th:only-of-type {\n        vertical-align: middle;\n    }\n\n    .dataframe tbody tr th {\n        vertical-align: top;\n    }\n\n    .dataframe thead th {\n        text-align: right;\n    }\n</style>\n<table border=\"1\" class=\"dataframe\">\n  <thead>\n    <tr style=\"text-align: right;\">\n      <th></th>\n      <th>source</th>\n      <th>date</th>\n      <th>text</th>\n    </tr>\n  </thead>\n  <tbody>\n    <tr>\n      <th>0</th>\n      <td>jansatta.com</td>\n      <td>2012/12/08</td>\n      <td>पूर्व पाकिस्तानी कप्तान अकरम ने कहा कि यदि खिल...</td>\n    </tr>\n    <tr>\n      <th>1</th>\n      <td>indiatimes.com</td>\n      <td>2012/03/21</td>\n      <td>- मार्केट में एक्सफोलिएटिंग लिप स्क्रब आसानी स...</td>\n    </tr>\n    <tr>\n      <th>2</th>\n      <td>jagran.com</td>\n      <td>2012/07/07</td>\n      <td>पूर्वी कैनाल मार्ग-</td>\n    </tr>\n    <tr>\n      <th>3</th>\n      <td>bhaskar.com</td>\n      <td>2012/11/02</td>\n      <td>संपत्ति लंबे समय में बनाई जाती है और इस काम को...</td>\n    </tr>\n    <tr>\n      <th>4</th>\n      <td>indiatimes.com</td>\n      <td>2012/05/13</td>\n      <td>-amazon.com के किंडल ई-रीडर्स पर अब हैरी पॉटर ...</td>\n    </tr>\n    <tr>\n      <th>...</th>\n      <td>...</td>\n      <td>...</td>\n      <td>...</td>\n    </tr>\n    <tr>\n      <th>114752</th>\n      <td>jagran.com</td>\n      <td>2012/10/31</td>\n      <td>मियादाद ने एक पाक चैनल से कहा कि वह नवाज को चे...</td>\n    </tr>\n    <tr>\n      <th>114753</th>\n      <td>ranchiexpress.com</td>\n      <td>2012/11/26</td>\n      <td>मामला घरेलू विवाद का ः एसपी इस संबंध में कोडरम...</td>\n    </tr>\n    <tr>\n      <th>114754</th>\n      <td>punjabkesari.in</td>\n      <td>2012/03/22</td>\n      <td>स. बेअंत ङ्क्षसह के दरवाजे 24 घंटे खुले रहते थ...</td>\n    </tr>\n    <tr>\n      <th>114755</th>\n      <td>bhaskar.com</td>\n      <td>2012/04/21</td>\n      <td>ॐ ब्रभवे नम:</td>\n    </tr>\n    <tr>\n      <th>114756</th>\n      <td>indiatimes.com</td>\n      <td>2012/10/07</td>\n      <td>गौरतलब है कि शनिवार को उसने भुवनेश्वर के नंदन ...</td>\n    </tr>\n  </tbody>\n</table>\n<p>114757 rows × 3 columns</p>\n</div>"
     },
     "metadata": {},
     "execution_count": 3
    }
   ],
   "source": [
    "data.loc[:,['source', 'date', 'text']]"
   ]
  },
  {
   "cell_type": "code",
   "execution_count": 4,
   "metadata": {},
   "outputs": [],
   "source": [
    "sample = data.text.loc[1]"
   ]
  },
  {
   "cell_type": "code",
   "execution_count": 5,
   "metadata": {},
   "outputs": [
    {
     "output_type": "execute_result",
     "data": {
      "text/plain": [
       "'- मार्केट में एक्सफोलिएटिंग लिप स्क्रब आसानी से मिल जाएंगे। नहीं, तो आप बच्चों के मुलायम ब्रिसल वाले ब्रश को गोलाई में घुमाते हुए स्क्रब करें।'"
      ]
     },
     "metadata": {},
     "execution_count": 5
    }
   ],
   "source": [
    "sample.strip()"
   ]
  },
  {
   "cell_type": "code",
   "execution_count": 6,
   "metadata": {},
   "outputs": [],
   "source": [
    "from textGenerator import TextProcess\n",
    "textProcessor = TextProcess()"
   ]
  },
  {
   "cell_type": "code",
   "execution_count": 9,
   "metadata": {},
   "outputs": [],
   "source": [
    "import nltk\n",
    "from nltk.tokenize import RegexpTokenizer\n",
    "from nltk.stem import WordNetLemmatizer,PorterStemmer\n",
    "from nltk.corpus import stopwords\n",
    "import re"
   ]
  },
  {
   "cell_type": "code",
   "execution_count": 10,
   "metadata": {},
   "outputs": [],
   "source": [
    "lemmatizer = WordNetLemmatizer()\n",
    "stemmer = PorterStemmer() \n",
    "\n",
    "def preprocess(sentence):\n",
    "    sentence=str(sentence)\n",
    "    sentence = sentence.lower()\n",
    "    sentence=sentence.replace('{html}',\"\") \n",
    "    cleanr = re.compile('<.*?>')\n",
    "    cleantext = re.sub(cleanr, '', sentence)\n",
    "    rem_url=re.sub(r'http\\S+', '',cleantext)\n",
    "    # rem_num = re.sub('[0-9]+', '', rem_url)\n",
    "    # tokenizer = RegexpTokenizer(r'\\w+')\n",
    "    # tokens = tokenizer.tokenize(rem_num)  \n",
    "    # filtered_words = [w for w in tokens if len(w) > 2 if not w in stopwords.words('english')]\n",
    "    # stem_words=[stemmer.stem(w) for w in filtered_words]\n",
    "    # lemma_words=[lemmatizer.lemmatize(w) for w in stem_words]\n",
    "    # return \" \".join(filtered_words)\n",
    "    return rem_url"
   ]
  },
  {
   "cell_type": "code",
   "execution_count": 15,
   "metadata": {},
   "outputs": [
    {
     "output_type": "execute_result",
     "data": {
      "text/plain": [
       "'- मार्केट में एक्सफोलिएटिंग लिप स्क्रब आसानी से मिल जाएंगे। नहीं, तो आप बच्चों के मुलायम ब्रिसल वाले ब्रश को गोलाई में घुमाते हुए स्क्रब करें।'"
      ]
     },
     "metadata": {},
     "execution_count": 15
    }
   ],
   "source": [
    "preprocess(sample)"
   ]
  },
  {
   "cell_type": "code",
   "execution_count": 17,
   "metadata": {},
   "outputs": [
    {
     "output_type": "execute_result",
     "data": {
      "text/plain": [
       "'उधर, ईरान ने परमाणु बम बनाने से इंकार किया है और कहा है कि उसका परमाणु कार्यक्रम शातिपूर्ण उद्देश्य के लिए है।'"
      ]
     },
     "metadata": {},
     "execution_count": 17
    }
   ],
   "source": [
    "from textGenerator import TextGenerator\n",
    "textgen = TextGenerator()\n",
    "sample = textgen.getRandomText()\n",
    "sample"
   ]
  },
  {
   "cell_type": "code",
   "execution_count": 18,
   "metadata": {},
   "outputs": [
    {
     "output_type": "execute_result",
     "data": {
      "text/plain": [
       "'उधर, ईरान ने परमाणु बम बनाने से इंकार किया है और कहा है कि उसका परमाणु कार्यक्रम शातिपूर्ण उद्देश्य के लिए है।'"
      ]
     },
     "metadata": {},
     "execution_count": 18
    }
   ],
   "source": [
    "sample"
   ]
  },
  {
   "cell_type": "code",
   "execution_count": null,
   "metadata": {},
   "outputs": [],
   "source": []
  },
  {
   "cell_type": "code",
   "execution_count": 21,
   "metadata": {},
   "outputs": [
    {
     "output_type": "execute_result",
     "data": {
      "text/plain": [
       "'इलाकों'"
      ]
     },
     "metadata": {},
     "execution_count": 21
    }
   ],
   "source": [
    "word = 'इलाकों'\n",
    "word"
   ]
  },
  {
   "cell_type": "code",
   "execution_count": 22,
   "metadata": {},
   "outputs": [
    {
     "output_type": "execute_result",
     "data": {
      "text/plain": [
       "['इ', 'ल', 'ा', 'क', 'ो', 'ं']"
      ]
     },
     "metadata": {},
     "execution_count": 22
    }
   ],
   "source": [
    "list(word)"
   ]
  },
  {
   "cell_type": "code",
   "execution_count": 29,
   "metadata": {},
   "outputs": [
    {
     "output_type": "stream",
     "name": "stdout",
     "text": [
      "कों\n"
     ]
    },
    {
     "output_type": "execute_result",
     "data": {
      "text/plain": [
       "['क', 'ो', 'ं']"
      ]
     },
     "metadata": {},
     "execution_count": 29
    }
   ],
   "source": [
    "a = u'\\u0915' + u'\\u094B' + u'\\u0902'\n",
    "print(a)\n",
    "list(a)"
   ]
  },
  {
   "cell_type": "code",
   "execution_count": 34,
   "metadata": {},
   "outputs": [
    {
     "output_type": "stream",
     "name": "stdout",
     "text": [
      "म्न\n"
     ]
    },
    {
     "output_type": "execute_result",
     "data": {
      "text/plain": [
       "['म', '्', 'न']"
      ]
     },
     "metadata": {},
     "execution_count": 34
    }
   ],
   "source": [
    "a = u'\\u092E' + u'\\u094D' + u'\\u0928' \n",
    "print(a)\n",
    "list(a)"
   ]
  },
  {
   "source": [
    "\n",
    "1. Vowel ke aage matra\n",
    "2. Consonant ke aage maatra and number of matra \n",
    "3. Aadha Vowel\n",
    "4. Aadha Consonant + Matra\n",
    "5. \n",
    "\n"
   ],
   "cell_type": "markdown",
   "metadata": {}
  },
  {
   "cell_type": "code",
   "execution_count": 37,
   "metadata": {},
   "outputs": [],
   "source": [
    "temp = sample"
   ]
  },
  {
   "cell_type": "code",
   "execution_count": 36,
   "metadata": {},
   "outputs": [
    {
     "output_type": "execute_result",
     "data": {
      "text/plain": [
       "'उधर, ईरान ने परमाणु बम बनाने से इंकार किया है और कहा है कि उसका परमाणु कार्यक्रम शातिपूर्ण उद्देश्य के लिए है।'"
      ]
     },
     "metadata": {},
     "execution_count": 36
    }
   ],
   "source": [
    "sample = temp\n",
    "print(f\"Sample : {sample}\")\n",
    "sample = sample.strip()\n"
   ]
  }
 ]
}